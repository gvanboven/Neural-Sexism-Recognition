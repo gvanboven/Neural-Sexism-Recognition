{
 "cells": [
  {
   "cell_type": "code",
   "execution_count": 1,
   "metadata": {
    "scrolled": true
   },
   "outputs": [],
   "source": [
    "import numpy as np\n",
    "import scipy.special\n",
    "import matplotlib.pyplot as plt\n",
    "import seaborn as sns\n",
    "import pandas as pd\n",
    "import gensim\n",
    "from nltk.tokenize import word_tokenize\n",
    "from nltk.stem import WordNetLemmatizer\n",
    "from sklearn.feature_extraction.text import TfidfVectorizer\n",
    "from sklearn.decomposition import TruncatedSVD\n",
    "from zeugma.embeddings import EmbeddingTransformer\n",
    "from sklearn import svm\n",
    "from sklearn.linear_model import LogisticRegression\n",
    "import NN\n",
    "\n",
    "%matplotlib inline\n",
    "sns.set_style(\"whitegrid\")"
   ]
  },
  {
   "cell_type": "code",
   "execution_count": 2,
   "metadata": {},
   "outputs": [],
   "source": [
    "#initialize parameters\n",
    "RANDOM_STATE = 11\n",
    "TRAIN_SIZE = 0.6\n",
    "DEV_SIZE = 0.2\n",
    "\n",
    "#load lemmatizer\n",
    "wordnet_lemmatizer = WordNetLemmatizer()"
   ]
  },
  {
   "cell_type": "code",
   "execution_count": 3,
   "metadata": {},
   "outputs": [
    {
     "name": "stdout",
     "output_type": "stream",
     "text": [
      "Found 1917495 word vectors.\n"
     ]
    }
   ],
   "source": [
    "#load Word2Vec model\n",
    "#the GoogleNews W2V embeddings and the 42B GLoVe embeddings should be downloaded and placed in a models folder\n",
    "w2v_model = gensim.models.KeyedVectors.load_word2vec_format('models/GoogleNews-vectors-negative300.bin.gz', binary=True)\n",
    "\n",
    "#load GLoVe model\n",
    "glove_model_path = './models/glove.42B.300d.txt' \n",
    "glove_model = {}\n",
    "with open(glove_model_path, encoding=\"utf8\") as f:\n",
    "    for line in f:\n",
    "        word, coefs = line.split(maxsplit=1)\n",
    "        coefs = np.fromstring(coefs, \"f\", sep=\" \")\n",
    "        glove_model[word] = coefs"
   ]
  },
  {
   "cell_type": "markdown",
   "metadata": {},
   "source": [
    "## Open data"
   ]
  },
  {
   "cell_type": "code",
   "execution_count": 4,
   "metadata": {},
   "outputs": [
    {
     "data": {
      "text/html": [
       "<div>\n",
       "<style scoped>\n",
       "    .dataframe tbody tr th:only-of-type {\n",
       "        vertical-align: middle;\n",
       "    }\n",
       "\n",
       "    .dataframe tbody tr th {\n",
       "        vertical-align: top;\n",
       "    }\n",
       "\n",
       "    .dataframe thead th {\n",
       "        text-align: right;\n",
       "    }\n",
       "</style>\n",
       "<table border=\"1\" class=\"dataframe\">\n",
       "  <thead>\n",
       "    <tr style=\"text-align: right;\">\n",
       "      <th></th>\n",
       "      <th>Sentences</th>\n",
       "      <th>Label</th>\n",
       "    </tr>\n",
       "  </thead>\n",
       "  <tbody>\n",
       "    <tr>\n",
       "      <th>353</th>\n",
       "      <td>Well I'd bet on the latter.</td>\n",
       "      <td>0</td>\n",
       "    </tr>\n",
       "    <tr>\n",
       "      <th>289</th>\n",
       "      <td>ah girls, you are dumb if you really believe y...</td>\n",
       "      <td>1</td>\n",
       "    </tr>\n",
       "    <tr>\n",
       "      <th>870</th>\n",
       "      <td>The human worker will go the way of the horse.</td>\n",
       "      <td>0</td>\n",
       "    </tr>\n",
       "    <tr>\n",
       "      <th>419</th>\n",
       "      <td>I must admit the \"Women belong in the kitchen\"...</td>\n",
       "      <td>1</td>\n",
       "    </tr>\n",
       "    <tr>\n",
       "      <th>57</th>\n",
       "      <td>Please Miss be nice and bring us some coffee</td>\n",
       "      <td>1</td>\n",
       "    </tr>\n",
       "    <tr>\n",
       "      <th>...</th>\n",
       "      <td>...</td>\n",
       "      <td>...</td>\n",
       "    </tr>\n",
       "    <tr>\n",
       "      <th>850</th>\n",
       "      <td>A man is not idle because he is absorbed in th...</td>\n",
       "      <td>0</td>\n",
       "    </tr>\n",
       "    <tr>\n",
       "      <th>583</th>\n",
       "      <td>Women sports reporters always look like they h...</td>\n",
       "      <td>1</td>\n",
       "    </tr>\n",
       "    <tr>\n",
       "      <th>332</th>\n",
       "      <td>Can you give an example?</td>\n",
       "      <td>0</td>\n",
       "    </tr>\n",
       "    <tr>\n",
       "      <th>1115</th>\n",
       "      <td>Shallow men believe in luck. Strong men believ...</td>\n",
       "      <td>0</td>\n",
       "    </tr>\n",
       "    <tr>\n",
       "      <th>1104</th>\n",
       "      <td>Work like you don't need the money. Dance like...</td>\n",
       "      <td>0</td>\n",
       "    </tr>\n",
       "  </tbody>\n",
       "</table>\n",
       "<p>1137 rows × 2 columns</p>\n",
       "</div>"
      ],
      "text/plain": [
       "                                              Sentences  Label\n",
       "353                         Well I'd bet on the latter.      0\n",
       "289   ah girls, you are dumb if you really believe y...      1\n",
       "870      The human worker will go the way of the horse.      0\n",
       "419   I must admit the \"Women belong in the kitchen\"...      1\n",
       "57         Please Miss be nice and bring us some coffee      1\n",
       "...                                                 ...    ...\n",
       "850   A man is not idle because he is absorbed in th...      0\n",
       "583   Women sports reporters always look like they h...      1\n",
       "332                            Can you give an example?      0\n",
       "1115  Shallow men believe in luck. Strong men believ...      0\n",
       "1104  Work like you don't need the money. Dance like...      0\n",
       "\n",
       "[1137 rows x 2 columns]"
      ]
     },
     "execution_count": 4,
     "metadata": {},
     "output_type": "execute_result"
    }
   ],
   "source": [
    "#open sexism dataset\n",
    "data = pd.read_csv('Sexism_data/ISEPSexistDatalabeling.csv', sep=';')\n",
    "#shuffle the data\n",
    "data = data.sample(frac=1, random_state=RANDOM_STATE)\n",
    "data"
   ]
  },
  {
   "cell_type": "code",
   "execution_count": 5,
   "metadata": {},
   "outputs": [
    {
     "name": "stdout",
     "output_type": "stream",
     "text": [
      "The dataset contains 624 sentences that are labelled to be sexist (54.88%)\n",
      "And 513 sentences labelled not to be sexist (45.12%)\n"
     ]
    }
   ],
   "source": [
    "print(f\"The dataset contains {len(data[data['Label'] == 1])} sentences that are labelled to be sexist ({round(100*len(data[data['Label'] == 1])/len(data),2)}%)\")\n",
    "print(f\"And {len(data[data['Label'] == 0])} sentences labelled not to be sexist ({round(100*len(data[data['Label'] == 0])/len(data),2)}%)\")"
   ]
  },
  {
   "cell_type": "markdown",
   "metadata": {},
   "source": [
    "## Preprocess data"
   ]
  },
  {
   "cell_type": "code",
   "execution_count": 8,
   "metadata": {},
   "outputs": [],
   "source": [
    "#split data into the train, dev and test set\n",
    "trainset, devset, testset = np.split(data, [int(TRAIN_SIZE*len(data)), int(TRAIN_SIZE*len(data))+int(DEV_SIZE*len(data)) ])"
   ]
  },
  {
   "cell_type": "code",
   "execution_count": 9,
   "metadata": {},
   "outputs": [],
   "source": [
    "def preprocess_sents(data):\n",
    "    '''\n",
    "    Function that preprocesses sentences by tokenizing them and lemmatizing the tokens. \n",
    "    The input sentences are split from the annotations and returned separately. \n",
    "    To create TF-IDF vectors, the sentences should be strings while they remain tokenized for the other models.\n",
    "    Therefore the function returns two different lists, one to create TF-IDF vectors and one to create the embeddings\n",
    "    \n",
    "    :param data: dataset containing sentences and annotations to be preprocessed\n",
    "    :type data: pandas dataset\n",
    "    \n",
    "    :returns embeddings_corpus: sentences from the data, lemmatized and tokenized\n",
    "    :type embeddings_corpus: list of lists\n",
    "    :returns embeddings_corpus: sentences from the data, lemmatized\n",
    "    :type embeddings_corpus: list of strings\n",
    "    :returns targets: annotations from the data\n",
    "    :type targets: list of integers \n",
    "    '''\n",
    "    embeddings_corpus = []\n",
    "    tf_idf_corpus = []\n",
    "    targets = []\n",
    "    #iterate the data\n",
    "    for row in data.iterrows():\n",
    "        #skip inputs empty inputs or inputs that aren't strings\n",
    "        try:\n",
    "            #lemmatize and tokenize\n",
    "            sent = [wordnet_lemmatizer.lemmatize(w) for w in word_tokenize(row[1]['Sentences'].lower())]\n",
    "            embeddings_corpus.append(sent)\n",
    "            #for the TF-IDF embeddings, save data as sentences\n",
    "            tf_idf_corpus.append(\" \".join(sent))\n",
    "            #save target annotations\n",
    "            target = row[1]['Label']\n",
    "            targets.append(target)\n",
    "        except: \n",
    "            continue\n",
    "    return embeddings_corpus, tf_idf_corpus, targets"
   ]
  },
  {
   "cell_type": "code",
   "execution_count": 13,
   "metadata": {},
   "outputs": [],
   "source": [
    "#split data in sentences and labels\n",
    "train_embeddings, train_tf, y_train = preprocess_sents(trainset)\n",
    "dev_embeddings, dev_tf, y_dev = preprocess_sents(devset)\n",
    "test_embeddings, test_tf, y_test = preprocess_sents(testset)"
   ]
  },
  {
   "cell_type": "markdown",
   "metadata": {},
   "source": [
    "## Extract word vectors"
   ]
  },
  {
   "cell_type": "code",
   "execution_count": 14,
   "metadata": {},
   "outputs": [],
   "source": [
    "def extract_word_embedding(token, word_embedding_model):\n",
    "    '''\n",
    "    Function that returns the word embedding for a given token out of a distributional semantic model.\n",
    "    If the token is not present in the embeddings model, a 300-dimension vector of 0s is returned.\n",
    "    \n",
    "    :param token: the token\n",
    "    :param word_embedding_model: the distributional semantic model\n",
    "    :type token: string\n",
    "    :type word_embedding_model: gensim.models.keyedvectors.Word2VecKeyedVectors\n",
    "    \n",
    "    :returns a vector representation of the token\n",
    "    '''\n",
    "    if token in word_embedding_model:\n",
    "        vector = word_embedding_model[token]\n",
    "    else:\n",
    "        vector = np.zeros(300)\n",
    "    return vector"
   ]
  },
  {
   "cell_type": "code",
   "execution_count": 15,
   "metadata": {},
   "outputs": [],
   "source": [
    "def extract_embeddings(data, language_model, combine):\n",
    "    '''\n",
    "    Function that extracts word embeddings from a distributional semantic model for each token in the input and \n",
    "    combines them using a combine function.\n",
    "    Combine function 'sum' sums over the individual word vectors; 'mean' takes the mean of individual word vectors\n",
    "    \n",
    "    :param data: data containing tokenized input sentences\n",
    "    :param language_model: a pretrained word embedding model\n",
    "    :param combine: a string indicating how the word vectors should be combined into sentence vectors\n",
    "    :type data: list of lists\n",
    "    :type language_model: gensim.models.keyedvectors.Word2VecKeyedVectors or dict (for GLoVe)\n",
    "    :type combine: string\n",
    "    \n",
    "    :return embeddings: list of vector representation of tokens\n",
    "    '''\n",
    "    embeddings = []\n",
    "    for sent in data:\n",
    "        sent_embedding = []\n",
    "        for token in sent:\n",
    "            embedding = extract_word_embedding(token, language_model)\n",
    "            sent_embedding.append(embedding)\n",
    "        if combine == 'mean':\n",
    "            sent_embedding = np.mean(sent_embedding, axis=0)\n",
    "        if combine == 'sum':\n",
    "            sent_embedding = np.sum(sent_embedding, axis=0)\n",
    "        if sent_embedding.shape != (300,):\n",
    "            continue\n",
    "        embeddings.append(sent_embedding)\n",
    "    embeddings = np.array(embeddings)\n",
    "    return embeddings"
   ]
  },
  {
   "cell_type": "code",
   "execution_count": 16,
   "metadata": {},
   "outputs": [],
   "source": [
    "def extract_embeddings_tf(data, fit=False, vectorizer = None, svdT=None):\n",
    "    '''\n",
    "    Function that create TF-IDF vectors for each token in the input and \n",
    "    combines them using a combine function.\n",
    "    Combine function 'sum' sums over the individual word vectors; 'mean' takes the mean of individual word vectors\n",
    "    \n",
    "    :param data: data containing tokenized input sentences\n",
    "    :param language_model: a pretrained word embedding model\n",
    "    :param combine: a string indicating how the word vectors should be combined into sentence vectors\n",
    "    :type data: list of lists\n",
    "    :type language_model: gensim.models.keyedvectors.Word2VecKeyedVectors or dict (for GLoVe)\n",
    "    :type combine: string\n",
    "    \n",
    "    :return embeddings: list of vector representation of tokens\n",
    "    '''\n",
    "    if fit:\n",
    "        vectorizer = TfidfVectorizer()\n",
    "        sparse_embeddings = vectorizer.fit_transform(data)\n",
    "        svdT = TruncatedSVD(n_components=300)\n",
    "        embeddings = svdT.fit_transform(sparse_embeddings)\n",
    "    else:\n",
    "        sparse_embeddings = vectorizer.transform(data)\n",
    "        embeddings = svdT.transform(sparse_embeddings)\n",
    "    return embeddings, vectorizer, svdT"
   ]
  },
  {
   "cell_type": "code",
   "execution_count": 17,
   "metadata": {},
   "outputs": [],
   "source": [
    "#extract train-dev-test data for TF-IDF vectors\n",
    "X_train_tf, vectorizer, svdT = extract_embeddings_tf(train_tf, fit=True)\n",
    "X_dev_tf, _, _ = extract_embeddings_tf(dev_tf, fit=False, vectorizer=vectorizer, svdT=svdT)\n",
    "X_test_tf, _, _ = extract_embeddings_tf(test_tf, fit=False, vectorizer=vectorizer, svdT=svdT)"
   ]
  },
  {
   "cell_type": "code",
   "execution_count": 18,
   "metadata": {},
   "outputs": [],
   "source": [
    "#extract train-dev-test data using W2V embeddings\n",
    "X_train_w2v_mean = extract_embeddings(train_embeddings, w2v_model, 'mean')\n",
    "X_dev_w2v_mean = extract_embeddings(dev_embeddings, w2v_model, 'mean')\n",
    "X_test_w2v_mean = extract_embeddings(test_embeddings, w2v_model, 'mean')\n",
    "\n",
    "X_train_w2v_sum = extract_embeddings(train_embeddings, w2v_model, 'sum')\n",
    "X_dev_w2v_sum = extract_embeddings(dev_embeddings, w2v_model, 'sum')\n",
    "X_test_w2v_sum = extract_embeddings(test_embeddings, w2v_model, 'sum')"
   ]
  },
  {
   "cell_type": "code",
   "execution_count": 19,
   "metadata": {},
   "outputs": [],
   "source": [
    "#extract train-dev-test data using GloVe embeddings\n",
    "X_train_glove_mean = extract_embeddings(train_embeddings, glove_model, 'mean')\n",
    "X_dev_glove_mean = extract_embeddings(dev_embeddings, glove_model, 'mean')\n",
    "X_test_glove_mean = extract_embeddings(test_embeddings, glove_model, 'mean')\n",
    "\n",
    "X_train_glove_sum = extract_embeddings(train_embeddings, glove_model, 'sum')\n",
    "X_dev_glove_sum = extract_embeddings(dev_embeddings, glove_model, 'sum')\n",
    "X_test_glove_sum = extract_embeddings(test_embeddings, glove_model, 'sum')"
   ]
  },
  {
   "cell_type": "markdown",
   "metadata": {},
   "source": [
    "### Baseline models"
   ]
  },
  {
   "cell_type": "code",
   "execution_count": 44,
   "metadata": {},
   "outputs": [
    {
     "data": {
      "text/plain": [
       "{'accuracy': 0.7631578947368421,\n",
       " 'precision': 0.7,\n",
       " 'recall': 0.921,\n",
       " 'F1': 0.795}"
      ]
     },
     "execution_count": 44,
     "metadata": {},
     "output_type": "execute_result"
    }
   ],
   "source": [
    "#create and test logistic regression baseline model\n",
    "model = LogisticRegression(max_iter=10000)\n",
    "model.fit(X_train_tf, y_train)\n",
    "predictions = model.predict(X_test_tf)\n",
    "#print performance scores\n",
    "NN.get_performance_scores(y_test, predictions)"
   ]
  },
  {
   "cell_type": "code",
   "execution_count": 45,
   "metadata": {},
   "outputs": [
    {
     "data": {
      "text/plain": [
       "{'accuracy': 0.7675438596491229,\n",
       " 'precision': 0.729,\n",
       " 'recall': 0.851,\n",
       " 'F1': 0.785}"
      ]
     },
     "execution_count": 45,
     "metadata": {},
     "output_type": "execute_result"
    }
   ],
   "source": [
    "#create and test SVM baseline model\n",
    "model = svm.LinearSVC()\n",
    "model.fit(X_train_tf, y_train)\n",
    "predictions = model.predict(X_test_tf)\n",
    "#print performance scores\n",
    "NN.get_performance_scores(y_test, predictions)"
   ]
  },
  {
   "cell_type": "markdown",
   "metadata": {},
   "source": [
    "## Experiments with embeddings"
   ]
  },
  {
   "cell_type": "code",
   "execution_count": 23,
   "metadata": {},
   "outputs": [],
   "source": [
    "# set model hyperparameters : number of input, hidden and output nodes\n",
    "input_nodes = 300\n",
    "hidden_nodes = 128\n",
    "output_nodes = 1\n",
    "\n",
    "#set learning rate, number of epochs and number of random initializations\n",
    "lr = 0.0005\n",
    "epochs = 20\n",
    "n_initializations = 5 \n"
   ]
  },
  {
   "cell_type": "code",
   "execution_count": 24,
   "metadata": {},
   "outputs": [],
   "source": [
    "def train_n_initializations(n_initializations, input_nodes, hidden_nodes, output_nodes, \\\n",
    "                            lr, epochs, X_train, y_train, X_dev, y_dev, verbose=False):\n",
    "    '''\n",
    "    Function that takes in hyperparameters settings and trains n_initializations number of models with this settings.\n",
    "    It keeps track of the performance for each model and returns the average scores.\n",
    "    \n",
    "    :param n_initializations: the number of random initializations, i.e. the number of models to train; int\n",
    "    :param input_nodes: the number of input nodes; int\n",
    "    :param hidden_nodes: the number of hidden nodes; int\n",
    "    :param output_nodes: the number of output nodes; int\n",
    "    :param lr: the learning rate; float \n",
    "    :param epochs: the number of epochs to train for; int\n",
    "    :param input_nodes: the number of input nodes \n",
    "    :param X_train: input train data; list of vectors\n",
    "    :param y_train: gold data for the train data; list of ints\n",
    "    :param X_dev: input dev data; list of vectors\n",
    "    :param y_dev: gold data for the dev data; list of ints\n",
    "    :param verbose: settings whether training updates should be printed after each epoch; bool\n",
    "    \n",
    "    :return performance_scores: dict including mean performance scores\n",
    "    '''\n",
    "    performance_scores = {'accuracy': [], 'precision': [], 'recall': [], 'F1':[]}\n",
    "    #loop over the initializations\n",
    "    for n in range(n_initializations):\n",
    "        #create the model\n",
    "        model = NN.neuralNetwork(input_nodes, hidden_nodes, output_nodes, lr)\n",
    "        #train\n",
    "        NN.train_network(model, epochs, X_train, y_train, X_dev, y_dev, verbose = verbose)\n",
    "        #test on the dev set\n",
    "        predictions, scores = NN.test_network(model, X_dev, y_dev)\n",
    "        #save performance of this initialization\n",
    "        for measure, score in scores.items():\n",
    "            performance_scores[measure].append(score)\n",
    "    #take the mean of the performance scores\n",
    "    for measure, scores in performance_scores.items():\n",
    "        print(measure, round(np.mean(scores)*100,1))\n",
    "    return performance_scores"
   ]
  },
  {
   "cell_type": "markdown",
   "metadata": {},
   "source": [
    "#### TF-IDF"
   ]
  },
  {
   "cell_type": "code",
   "execution_count": 30,
   "metadata": {},
   "outputs": [
    {
     "name": "stdout",
     "output_type": "stream",
     "text": [
      "accuracy 58.3\n",
      "precision 55.0\n",
      "recall 98.4\n",
      "F1 70.5\n"
     ]
    }
   ],
   "source": [
    "tf_idf = train_n_initializations(n_initializations, input_nodes, hidden_nodes, output_nodes, \\\n",
    "                            lr, epochs, X_train_tf, y_train, X_dev_tf, y_dev, verbose=False)"
   ]
  },
  {
   "cell_type": "markdown",
   "metadata": {},
   "source": [
    "#### W2V mean"
   ]
  },
  {
   "cell_type": "code",
   "execution_count": 26,
   "metadata": {
    "scrolled": true
   },
   "outputs": [
    {
     "name": "stdout",
     "output_type": "stream",
     "text": [
      "accuracy 69.0\n",
      "precision 64.3\n",
      "recall 89.2\n",
      "F1 74.5\n"
     ]
    }
   ],
   "source": [
    "w2v_mean = train_n_initializations(n_initializations, input_nodes, hidden_nodes, output_nodes, \\\n",
    "                            lr, epochs, X_train_w2v_mean, y_train, X_dev_w2v_mean, y_dev, verbose=False)"
   ]
  },
  {
   "cell_type": "markdown",
   "metadata": {},
   "source": [
    "#### W2V sum"
   ]
  },
  {
   "cell_type": "code",
   "execution_count": 27,
   "metadata": {
    "scrolled": true
   },
   "outputs": [
    {
     "name": "stdout",
     "output_type": "stream",
     "text": [
      "accuracy 80.8\n",
      "precision 74.5\n",
      "recall 94.4\n",
      "F1 83.3\n"
     ]
    }
   ],
   "source": [
    "w2v_sum = train_n_initializations(n_initializations, input_nodes, hidden_nodes, output_nodes, \\\n",
    "                            lr, epochs, X_train_w2v_sum, y_train, X_dev_w2v_sum, y_dev, verbose=False)"
   ]
  },
  {
   "cell_type": "markdown",
   "metadata": {},
   "source": [
    "#### GLoVe mean"
   ]
  },
  {
   "cell_type": "code",
   "execution_count": 28,
   "metadata": {
    "scrolled": true
   },
   "outputs": [
    {
     "name": "stdout",
     "output_type": "stream",
     "text": [
      "accuracy 83.2\n",
      "precision 79.3\n",
      "recall 90.4\n",
      "F1 84.5\n"
     ]
    }
   ],
   "source": [
    "glove_mean = train_n_initializations(n_initializations, input_nodes, hidden_nodes, output_nodes, \\\n",
    "                            lr, epochs, X_train_glove_mean, y_train, X_dev_glove_mean, y_dev, verbose=False) "
   ]
  },
  {
   "cell_type": "markdown",
   "metadata": {},
   "source": [
    "#### GLoVe sum"
   ]
  },
  {
   "cell_type": "code",
   "execution_count": 29,
   "metadata": {},
   "outputs": [
    {
     "name": "stdout",
     "output_type": "stream",
     "text": [
      "accuracy 82.1\n",
      "precision 75.5\n",
      "recall 95.9\n",
      "F1 84.5\n"
     ]
    }
   ],
   "source": [
    "glove_sum = train_n_initializations(n_initializations, input_nodes, hidden_nodes, output_nodes, \\\n",
    "                            lr, epochs, X_train_glove_sum, y_train, X_dev_glove_sum, y_dev, verbose=False) "
   ]
  },
  {
   "cell_type": "markdown",
   "metadata": {},
   "source": [
    "## experiments with model architecture"
   ]
  },
  {
   "cell_type": "code",
   "execution_count": 31,
   "metadata": {},
   "outputs": [],
   "source": [
    "#compare models with the following number of hidden nodes\n",
    "hidden_nodes_ranges = [32, 64, 128, 256, 512, 768, 1012]"
   ]
  },
  {
   "cell_type": "code",
   "execution_count": 32,
   "metadata": {
    "scrolled": true
   },
   "outputs": [
    {
     "name": "stdout",
     "output_type": "stream",
     "text": [
      "hidden nodes = 32\n",
      "accuracy 69.9\n",
      "precision 64.6\n",
      "recall 92.5\n",
      "F1 75.9\n",
      "---\n",
      "hidden nodes = 64\n",
      "accuracy 80.4\n",
      "precision 75.6\n",
      "recall 90.9\n",
      "F1 82.5\n",
      "---\n",
      "hidden nodes = 128\n",
      "accuracy 81.9\n",
      "precision 77.9\n",
      "recall 89.6\n",
      "F1 83.3\n",
      "---\n",
      "hidden nodes = 256\n",
      "accuracy 82.6\n",
      "precision 78.8\n",
      "recall 89.9\n",
      "F1 84.0\n",
      "---\n",
      "hidden nodes = 512\n",
      "accuracy 83.5\n",
      "precision 78.8\n",
      "recall 92.3\n",
      "F1 85.0\n",
      "---\n",
      "hidden nodes = 768\n",
      "accuracy 84.4\n",
      "precision 79.5\n",
      "recall 93.4\n",
      "F1 85.8\n",
      "---\n",
      "hidden nodes = 1012\n",
      "accuracy 83.7\n",
      "precision 78.8\n",
      "recall 92.9\n",
      "F1 85.2\n",
      "---\n"
     ]
    }
   ],
   "source": [
    "performances_hidden_nodes = []\n",
    "for hidden_nodes in hidden_nodes_ranges:\n",
    "    print(f\"hidden nodes = {hidden_nodes}\")\n",
    "    h_nodes_performace = train_n_initializations(n_initializations, input_nodes, hidden_nodes, output_nodes, \\\n",
    "                            lr, epochs, X_train_glove_mean, y_train, X_dev_glove_mean, y_dev, verbose=False) \n",
    "    print(\"---\")\n",
    "    performances_hidden_nodes.append(np.mean(h_nodes_performace['accuracy'])*100)"
   ]
  },
  {
   "cell_type": "code",
   "execution_count": 33,
   "metadata": {},
   "outputs": [
    {
     "data": {
      "image/png": "[encoded data removed]",
      "text/plain": [
       "<Figure size 576x360 with 1 Axes>"
      ]
     },
     "metadata": {},
     "output_type": "display_data"
    }
   ],
   "source": [
    "#create plot for hidden nodes results\n",
    "plt.figure(figsize=(8,5))\n",
    "plt.plot(hidden_nodes_ranges, performances_hidden_nodes) \n",
    "plt.xlabel(\"Number of hidden nodes\", fontsize=14)\n",
    "plt.ylabel(\"Accuracy\", fontsize=14)\n",
    "plt.xticks(fontsize=13)\n",
    "plt.yticks(fontsize=13)\n",
    "plt.savefig('hidden_nodes_performance.png')\n",
    "plt.show()  "
   ]
  },
  {
   "cell_type": "code",
   "execution_count": 34,
   "metadata": {
    "scrolled": true
   },
   "outputs": [
    {
     "name": "stdout",
     "output_type": "stream",
     "text": [
      "learning rate = 1e-05\n",
      "accuracy 61.0\n",
      "precision 58.8\n",
      "recall 78.8\n",
      "F1 67.2\n",
      "---\n",
      "learning rate = 5e-05\n",
      "accuracy 76.7\n",
      "precision 73.3\n",
      "recall 84.9\n",
      "F1 78.6\n",
      "---\n",
      "learning rate = 0.0001\n",
      "accuracy 82.0\n",
      "precision 78.4\n",
      "recall 89.1\n",
      "F1 83.4\n",
      "---\n",
      "learning rate = 0.0005\n",
      "accuracy 83.1\n",
      "precision 79.1\n",
      "recall 90.5\n",
      "F1 84.4\n",
      "---\n",
      "learning rate = 0.001\n",
      "accuracy 85.5\n",
      "precision 80.3\n",
      "recall 94.4\n",
      "F1 86.8\n",
      "---\n",
      "learning rate = 0.005\n",
      "accuracy 81.5\n",
      "precision 84.9\n",
      "recall 77.2\n",
      "F1 80.9\n",
      "---\n",
      "learning rate = 0.01\n",
      "accuracy 80.5\n",
      "precision 85.1\n",
      "recall 74.6\n",
      "F1 79.5\n",
      "---\n"
     ]
    }
   ],
   "source": [
    "#compare models with the following learning rates\n",
    "hidden_nodes = 768\n",
    "lr_ranges = [0.00001, 0.00005, 0.0001, 0.0005, 0.001, 0.005, 0.01]\n",
    "performances_lr = []\n",
    "\n",
    "for lr in lr_ranges:\n",
    "    print(f\"learning rate = {lr}\")\n",
    "    lr_performace = train_n_initializations(n_initializations, input_nodes, hidden_nodes, output_nodes, \\\n",
    "                            lr, epochs, X_train_glove_mean, y_train, X_dev_glove_mean, y_dev, verbose=False) \n",
    "    print(\"---\")\n",
    "    performances_lr.append(np.mean(lr_performace['accuracy'])*100)"
   ]
  },
  {
   "cell_type": "code",
   "execution_count": 35,
   "metadata": {},
   "outputs": [
    {
     "data": {
      "image/png": "[encoded data removed]",
      "text/plain": [
       "<Figure size 576x360 with 1 Axes>"
      ]
     },
     "metadata": {},
     "output_type": "display_data"
    }
   ],
   "source": [
    "#create and save plot for learning rate results\n",
    "plt.figure(figsize=(8,5))\n",
    "plt.plot(lr_ranges, performances_lr) \n",
    "\n",
    "plt.xlabel(\"Learning rate\", fontsize = 14)\n",
    "plt.ylabel(\"Accuracy\", fontsize = 14)\n",
    "plt.xticks(fontsize=13)\n",
    "plt.yticks(fontsize=13)\n",
    "plt.xscale('log')\n",
    "\n",
    "plt.savefig('lr_performance.png')\n",
    "plt.show()  "
   ]
  },
  {
   "cell_type": "code",
   "execution_count": 36,
   "metadata": {
    "scrolled": true
   },
   "outputs": [
    {
     "name": "stdout",
     "output_type": "stream",
     "text": [
      "epochs = 1\n",
      "accuracy 76.7\n",
      "precision 82.0\n",
      "recall 69.6\n",
      "F1 75.1\n",
      "---\n",
      "epochs = 5\n",
      "accuracy 82.6\n",
      "precision 81.0\n",
      "recall 85.9\n",
      "F1 83.3\n",
      "---\n",
      "epochs = 10\n",
      "accuracy 84.3\n",
      "precision 80.4\n",
      "recall 91.3\n",
      "F1 85.5\n",
      "---\n",
      "epochs = 15\n",
      "accuracy 83.7\n",
      "precision 80.0\n",
      "recall 90.4\n",
      "F1 84.9\n",
      "---\n",
      "epochs = 20\n",
      "accuracy 84.9\n",
      "precision 79.6\n",
      "recall 94.6\n",
      "F1 86.4\n",
      "---\n",
      "epochs = 30\n",
      "accuracy 85.3\n",
      "precision 79.9\n",
      "recall 94.8\n",
      "F1 86.7\n",
      "---\n",
      "epochs = 40\n",
      "accuracy 85.6\n",
      "precision 80.5\n",
      "recall 94.6\n",
      "F1 87.0\n",
      "---\n"
     ]
    }
   ],
   "source": [
    "#compare models with the following number of epochs\n",
    "lr = 0.001\n",
    "epochs_ranges = [1,5,10,15,20,30,40]\n",
    "\n",
    "performances_epochs_001 = []\n",
    "for epochs in epochs_ranges:\n",
    "    print(f\"epochs = {epochs}\")\n",
    "    epochs_performace = train_n_initializations(n_initializations, input_nodes, hidden_nodes, output_nodes, \\\n",
    "                            lr, epochs, X_train_glove_mean, y_train, X_dev_glove_mean, y_dev, verbose=False) \n",
    "    print(\"---\")\n",
    "    performances_epochs_001.append(np.mean(epochs_performace['accuracy'])*100)"
   ]
  },
  {
   "cell_type": "code",
   "execution_count": 38,
   "metadata": {},
   "outputs": [
    {
     "data": {
      "image/png": "[encoded data removed]",
      "text/plain": [
       "<Figure size 576x360 with 1 Axes>"
      ]
     },
     "metadata": {},
     "output_type": "display_data"
    }
   ],
   "source": [
    "plt.figure(figsize=(8,5))\n",
    "plt.plot(epochs_ranges, performances_epochs_001) \n",
    "plt.xlabel(\"Number of epochs\", fontsize=14)\n",
    "plt.ylabel(\"Accuracy\", fontsize=14)\n",
    "plt.xticks(fontsize=13)\n",
    "plt.yticks(fontsize=13)\n",
    "\n",
    "plt.savefig('epochs_performance.png')\n",
    "plt.show()  "
   ]
  },
  {
   "cell_type": "markdown",
   "metadata": {},
   "source": [
    "Train the final model, using all the best hyperparameters:"
   ]
  },
  {
   "cell_type": "code",
   "execution_count": 48,
   "metadata": {
    "scrolled": true
   },
   "outputs": [
    {
     "name": "stdout",
     "output_type": "stream",
     "text": [
      "Epoch 0/40:\n",
      "time: 0.001997232437133789 s; train performance: {'accuracy': 0.7771260997067448, 'precision': 0.881, 'recall': 0.711, 'F1': 0.787}\n",
      "dev performance: {'accuracy': 0.7929515418502202, 'precision': 0.815, 'recall': 0.765, 'F1': 0.789}\n",
      "Epoch 1/40:\n",
      "time: 0.003000974655151367 s; train performance: {'accuracy': 0.8240469208211144, 'precision': 0.894, 'recall': 0.79, 'F1': 0.839}\n",
      "dev performance: {'accuracy': 0.8193832599118943, 'precision': 0.803, 'recall': 0.852, 'F1': 0.827}\n",
      "Epoch 2/40:\n",
      "time: 0.003002643585205078 s; train performance: {'accuracy': 0.843108504398827, 'precision': 0.898, 'recall': 0.823, 'F1': 0.859}\n",
      "dev performance: {'accuracy': 0.8325991189427313, 'precision': 0.813, 'recall': 0.87, 'F1': 0.841}\n",
      "Epoch 3/40:\n",
      "time: 0.002000570297241211 s; train performance: {'accuracy': 0.8592375366568915, 'precision': 0.901, 'recall': 0.851, 'F1': 0.875}\n",
      "dev performance: {'accuracy': 0.8325991189427313, 'precision': 0.808, 'recall': 0.878, 'F1': 0.842}\n",
      "Epoch 4/40:\n",
      "time: 0.003003835678100586 s; train performance: {'accuracy': 0.8680351906158358, 'precision': 0.907, 'recall': 0.861, 'F1': 0.883}\n",
      "dev performance: {'accuracy': 0.8281938325991189, 'precision': 0.797, 'recall': 0.887, 'F1': 0.84}\n",
      "Epoch 5/40:\n",
      "time: 0.002015829086303711 s; train performance: {'accuracy': 0.8768328445747801, 'precision': 0.91, 'recall': 0.873, 'F1': 0.891}\n",
      "dev performance: {'accuracy': 0.8414096916299559, 'precision': 0.802, 'recall': 0.913, 'F1': 0.854}\n",
      "Epoch 6/40:\n",
      "time: 0.0010037422180175781 s; train performance: {'accuracy': 0.8826979472140762, 'precision': 0.909, 'recall': 0.886, 'F1': 0.897}\n",
      "dev performance: {'accuracy': 0.8414096916299559, 'precision': 0.802, 'recall': 0.913, 'F1': 0.854}\n",
      "Epoch 7/40:\n",
      "time: 0.0030019283294677734 s; train performance: {'accuracy': 0.8885630498533724, 'precision': 0.912, 'recall': 0.894, 'F1': 0.903}\n",
      "dev performance: {'accuracy': 0.8414096916299559, 'precision': 0.802, 'recall': 0.913, 'F1': 0.854}\n",
      "Epoch 8/40:\n",
      "time: 0.001001596450805664 s; train performance: {'accuracy': 0.8885630498533724, 'precision': 0.906, 'recall': 0.901, 'F1': 0.903}\n",
      "dev performance: {'accuracy': 0.8414096916299559, 'precision': 0.802, 'recall': 0.913, 'F1': 0.854}\n",
      "Epoch 9/40:\n",
      "time: 0.001997232437133789 s; train performance: {'accuracy': 0.8856304985337243, 'precision': 0.901, 'recall': 0.901, 'F1': 0.901}\n",
      "dev performance: {'accuracy': 0.8458149779735683, 'precision': 0.803, 'recall': 0.922, 'F1': 0.858}\n",
      "Epoch 10/40:\n",
      "time: 0.0020020008087158203 s; train performance: {'accuracy': 0.8841642228739003, 'precision': 0.899, 'recall': 0.901, 'F1': 0.9}\n",
      "dev performance: {'accuracy': 0.8502202643171806, 'precision': 0.809, 'recall': 0.922, 'F1': 0.862}\n",
      "Epoch 11/40:\n",
      "time: 0.0030198097229003906 s; train performance: {'accuracy': 0.8841642228739003, 'precision': 0.899, 'recall': 0.901, 'F1': 0.9}\n",
      "dev performance: {'accuracy': 0.8502202643171806, 'precision': 0.809, 'recall': 0.922, 'F1': 0.862}\n",
      "Epoch 12/40:\n",
      "time: 0.0009911060333251953 s; train performance: {'accuracy': 0.8856304985337243, 'precision': 0.899, 'recall': 0.904, 'F1': 0.901}\n",
      "dev performance: {'accuracy': 0.8546255506607929, 'precision': 0.811, 'recall': 0.93, 'F1': 0.866}\n",
      "Epoch 13/40:\n",
      "time: 0.0019965171813964844 s; train performance: {'accuracy': 0.8870967741935484, 'precision': 0.899, 'recall': 0.906, 'F1': 0.902}\n",
      "dev performance: {'accuracy': 0.8546255506607929, 'precision': 0.811, 'recall': 0.93, 'F1': 0.866}\n",
      "Epoch 14/40:\n",
      "time: 0.0019998550415039062 s; train performance: {'accuracy': 0.8885630498533724, 'precision': 0.9, 'recall': 0.909, 'F1': 0.904}\n",
      "dev performance: {'accuracy': 0.8546255506607929, 'precision': 0.811, 'recall': 0.93, 'F1': 0.866}\n",
      "Epoch 15/40:\n",
      "time: 0.002005338668823242 s; train performance: {'accuracy': 0.8914956011730205, 'precision': 0.904, 'recall': 0.909, 'F1': 0.906}\n",
      "dev performance: {'accuracy': 0.8590308370044053, 'precision': 0.812, 'recall': 0.939, 'F1': 0.871}\n",
      "Epoch 16/40:\n",
      "time: 0.003004789352416992 s; train performance: {'accuracy': 0.8973607038123167, 'precision': 0.907, 'recall': 0.916, 'F1': 0.911}\n",
      "dev performance: {'accuracy': 0.8590308370044053, 'precision': 0.812, 'recall': 0.939, 'F1': 0.871}\n",
      "Epoch 17/40:\n",
      "time: 0.0020012855529785156 s; train performance: {'accuracy': 0.8973607038123167, 'precision': 0.905, 'recall': 0.919, 'F1': 0.912}\n",
      "dev performance: {'accuracy': 0.8590308370044053, 'precision': 0.812, 'recall': 0.939, 'F1': 0.871}\n",
      "Epoch 18/40:\n",
      "time: 0.003023386001586914 s; train performance: {'accuracy': 0.8973607038123167, 'precision': 0.905, 'recall': 0.919, 'F1': 0.912}\n",
      "dev performance: {'accuracy': 0.8634361233480177, 'precision': 0.813, 'recall': 0.948, 'F1': 0.875}\n",
      "Epoch 19/40:\n",
      "time: 0.0020072460174560547 s; train performance: {'accuracy': 0.8973607038123167, 'precision': 0.905, 'recall': 0.919, 'F1': 0.912}\n",
      "dev performance: {'accuracy': 0.8634361233480177, 'precision': 0.813, 'recall': 0.948, 'F1': 0.875}\n",
      "Epoch 20/40:\n",
      "time: 0.0009887218475341797 s; train performance: {'accuracy': 0.9002932551319648, 'precision': 0.906, 'recall': 0.924, 'F1': 0.915}\n",
      "dev performance: {'accuracy': 0.8634361233480177, 'precision': 0.813, 'recall': 0.948, 'F1': 0.875}\n",
      "Epoch 21/40:\n",
      "time: 0.0010008811950683594 s; train performance: {'accuracy': 0.9017595307917888, 'precision': 0.904, 'recall': 0.929, 'F1': 0.916}\n",
      "dev performance: {'accuracy': 0.8678414096916299, 'precision': 0.815, 'recall': 0.957, 'F1': 0.88}\n",
      "Epoch 22/40:\n",
      "time: 0.00099945068359375 s; train performance: {'accuracy': 0.9046920821114369, 'precision': 0.904, 'recall': 0.934, 'F1': 0.919}\n",
      "dev performance: {'accuracy': 0.8634361233480177, 'precision': 0.809, 'recall': 0.957, 'F1': 0.877}\n",
      "Epoch 23/40:\n",
      "time: 0.0010139942169189453 s; train performance: {'accuracy': 0.9046920821114369, 'precision': 0.904, 'recall': 0.934, 'F1': 0.919}\n",
      "dev performance: {'accuracy': 0.8678414096916299, 'precision': 0.81, 'recall': 0.965, 'F1': 0.881}\n",
      "Epoch 24/40:\n",
      "time: 0.002997875213623047 s; train performance: {'accuracy': 0.9046920821114369, 'precision': 0.904, 'recall': 0.934, 'F1': 0.919}\n",
      "dev performance: {'accuracy': 0.8678414096916299, 'precision': 0.81, 'recall': 0.965, 'F1': 0.881}\n",
      "Epoch 25/40:\n",
      "time: 0.001997232437133789 s; train performance: {'accuracy': 0.9046920821114369, 'precision': 0.904, 'recall': 0.934, 'F1': 0.919}\n",
      "dev performance: {'accuracy': 0.8722466960352423, 'precision': 0.816, 'recall': 0.965, 'F1': 0.884}\n",
      "Epoch 26/40:\n",
      "time: 0.006001472473144531 s; train performance: {'accuracy': 0.906158357771261, 'precision': 0.907, 'recall': 0.934, 'F1': 0.92}\n",
      "dev performance: {'accuracy': 0.8722466960352423, 'precision': 0.812, 'recall': 0.974, 'F1': 0.886}\n",
      "Epoch 27/40:\n",
      "time: 0.0020139217376708984 s; train performance: {'accuracy': 0.906158357771261, 'precision': 0.907, 'recall': 0.934, 'F1': 0.92}\n",
      "dev performance: {'accuracy': 0.8722466960352423, 'precision': 0.812, 'recall': 0.974, 'F1': 0.886}\n",
      "Epoch 28/40:\n",
      "time: 0.00200653076171875 s; train performance: {'accuracy': 0.906158357771261, 'precision': 0.905, 'recall': 0.937, 'F1': 0.921}\n",
      "dev performance: {'accuracy': 0.8722466960352423, 'precision': 0.812, 'recall': 0.974, 'F1': 0.886}\n",
      "Epoch 29/40:\n",
      "time: 0.00302886962890625 s; train performance: {'accuracy': 0.906158357771261, 'precision': 0.905, 'recall': 0.937, 'F1': 0.921}\n",
      "dev performance: {'accuracy': 0.8722466960352423, 'precision': 0.812, 'recall': 0.974, 'F1': 0.886}\n",
      "Epoch 30/40:\n",
      "time: 0.0030014514923095703 s; train performance: {'accuracy': 0.9046920821114369, 'precision': 0.902, 'recall': 0.937, 'F1': 0.919}\n",
      "dev performance: {'accuracy': 0.8722466960352423, 'precision': 0.812, 'recall': 0.974, 'F1': 0.886}\n",
      "Epoch 31/40:\n",
      "time: 0.0030150413513183594 s; train performance: {'accuracy': 0.9090909090909091, 'precision': 0.907, 'recall': 0.939, 'F1': 0.923}\n",
      "dev performance: {'accuracy': 0.8678414096916299, 'precision': 0.806, 'recall': 0.974, 'F1': 0.882}\n",
      "Epoch 32/40:\n",
      "time: 0.0019996166229248047 s; train performance: {'accuracy': 0.9134897360703812, 'precision': 0.912, 'recall': 0.942, 'F1': 0.927}\n",
      "dev performance: {'accuracy': 0.8678414096916299, 'precision': 0.806, 'recall': 0.974, 'F1': 0.882}\n",
      "Epoch 33/40:\n",
      "time: 0.004295825958251953 s; train performance: {'accuracy': 0.9134897360703812, 'precision': 0.912, 'recall': 0.942, 'F1': 0.927}\n",
      "dev performance: {'accuracy': 0.8678414096916299, 'precision': 0.806, 'recall': 0.974, 'F1': 0.882}\n"
     ]
    },
    {
     "name": "stdout",
     "output_type": "stream",
     "text": [
      "Epoch 34/40:\n",
      "time: 0.0030028820037841797 s; train performance: {'accuracy': 0.9149560117302052, 'precision': 0.912, 'recall': 0.944, 'F1': 0.928}\n",
      "dev performance: {'accuracy': 0.8678414096916299, 'precision': 0.806, 'recall': 0.974, 'F1': 0.882}\n",
      "Epoch 35/40:\n",
      "time: 0.0020058155059814453 s; train performance: {'accuracy': 0.9164222873900293, 'precision': 0.912, 'recall': 0.947, 'F1': 0.929}\n",
      "dev performance: {'accuracy': 0.8678414096916299, 'precision': 0.806, 'recall': 0.974, 'F1': 0.882}\n",
      "Epoch 36/40:\n",
      "time: 0.004025459289550781 s; train performance: {'accuracy': 0.9164222873900293, 'precision': 0.912, 'recall': 0.947, 'F1': 0.929}\n",
      "dev performance: {'accuracy': 0.8678414096916299, 'precision': 0.806, 'recall': 0.974, 'F1': 0.882}\n",
      "Epoch 37/40:\n",
      "time: 0.0020127296447753906 s; train performance: {'accuracy': 0.9164222873900293, 'precision': 0.912, 'recall': 0.947, 'F1': 0.929}\n",
      "dev performance: {'accuracy': 0.8678414096916299, 'precision': 0.806, 'recall': 0.974, 'F1': 0.882}\n",
      "Epoch 38/40:\n",
      "time: 0.0029878616333007812 s; train performance: {'accuracy': 0.9164222873900293, 'precision': 0.912, 'recall': 0.947, 'F1': 0.929}\n",
      "dev performance: {'accuracy': 0.8634361233480177, 'precision': 0.8, 'recall': 0.974, 'F1': 0.878}\n",
      "Epoch 39/40:\n",
      "time: 0.0029764175415039062 s; train performance: {'accuracy': 0.9164222873900293, 'precision': 0.912, 'recall': 0.947, 'F1': 0.929}\n",
      "dev performance: {'accuracy': 0.8634361233480177, 'precision': 0.8, 'recall': 0.974, 'F1': 0.878}\n"
     ]
    }
   ],
   "source": [
    "epochs = 40\n",
    "model = NN.neuralNetwork(input_nodes,hidden_nodes,output_nodes,lr)\n",
    "NN.train_network(model, epochs, X_train_glove_mean, y_train, X_dev_glove_mean, y_dev, verbose = True)"
   ]
  },
  {
   "cell_type": "code",
   "execution_count": 49,
   "metadata": {},
   "outputs": [
    {
     "name": "stdout",
     "output_type": "stream",
     "text": [
      "test performance for the best NN model\n",
      "{'accuracy': 0.8245614035087719, 'precision': 0.768, 'recall': 0.93, 'F1': 0.841}\n"
     ]
    }
   ],
   "source": [
    "print(\"test performance for the best NN model\")\n",
    "y_pred, final_performance = NN.test_network(model, X_test_glove_mean, y_test)\n",
    "print(final_performance)"
   ]
  },
  {
   "cell_type": "markdown",
   "metadata": {},
   "source": [
    "## Error analysis"
   ]
  },
  {
   "cell_type": "code",
   "execution_count": 50,
   "metadata": {},
   "outputs": [
    {
     "name": "stdout",
     "output_type": "stream",
     "text": [
      "out of 114 sexist sentences in the testset, 106 are correctly identified, 8 are missed.\n",
      "out of 114 neutral sentences in the testset, 82 are correctly identified, 32 are considered as sexist.\n"
     ]
    }
   ],
   "source": [
    "#get indices of all sexist (annotation = 1) sentences\n",
    "positives_indices = [index for index, annotation in enumerate(y_test) if annotation == 1]\n",
    "#get indices of all correctly indentified sexist sentences (true positives)\n",
    "true_positives_indices = [index for index in positives_indices if y_pred[index]==1]\n",
    "#get indices of all incorrectly classified sexist sentences (false negatives)\n",
    "false_positives_indices = [index for index in positives_indices if y_pred[index]==0]\n",
    "print(f\"out of {len(positives_indices)} sexist sentences in the testset, {len(true_positives_indices)} are correctly \" \\\n",
    "        f\"identified, {len(false_positives_indices)} are missed.\")\n",
    "\n",
    "#get indices of all sexist (annotation = 0) sentences\n",
    "negatives_indices = [index for index, annotation in enumerate(y_test) if annotation == 0]\n",
    "#get indices of all correctly indentified neatral sentences (true negatives)\n",
    "true_negatives_indices = [index for index in negatives_indices if y_pred[index]==0]\n",
    "#get indices of all incorrectly classified neatral sentences (false positives)\n",
    "false_negatives_indices = [index for index in negatives_indices if y_pred[index]==1]\n",
    "print(f\"out of {len(negatives_indices)} neutral sentences in the testset, {len(true_negatives_indices)} are correctly \" \\\n",
    "        f\"identified, {len(false_negatives_indices)} are considered as sexist.\")\n"
   ]
  },
  {
   "cell_type": "code",
   "execution_count": 51,
   "metadata": {},
   "outputs": [
    {
     "name": "stdout",
     "output_type": "stream",
     "text": [
      "false positive sentences:\n",
      "test are like woman . hard to understand , easy to get over , and nonrefundable .\n",
      "i just think men are better comedian .\n",
      "what will we do without feminist ? ! everything .\n",
      "for a woman , that is good\n",
      "you can thank the quota\n",
      "how do you sleep at night , cathy ? you . cunt .\n",
      "for me , she is not strong enough\n",
      "i think in general , men make way better music\n"
     ]
    }
   ],
   "source": [
    "print(\"false positive sentences:\")\n",
    "for index in false_positives_indices:\n",
    "    print(\" \".join(test_w2v[index]))"
   ]
  },
  {
   "cell_type": "code",
   "execution_count": 52,
   "metadata": {},
   "outputs": [
    {
     "name": "stdout",
     "output_type": "stream",
     "text": [
      "false negative sentences:\n",
      "i hate being placed on committee . they are always having meeting at which half are absent and the rest late .\n",
      "i never sleep well when i 'm on call .\n",
      "you are a intelligent a this guy\n",
      "do you and your little girl watch sport together ?\n",
      "the woman 's party is made up of woman of all race , creed and nationality who are united on the one program of working to raise the status of woman .\n",
      "i 'm not someone who 's led my life trying to get publicity i 'd rather do my work and go home .\n",
      "all job are odd , or they would be game or nap or picnic .\n",
      "when a man is ambitious it 's seen a a good thing , and when a woman is described a ambitious it 's seen a a complete negative\n",
      "people buy into the leader before they buy into the vision\n",
      "five foot and nine inch is tall for a girl right ?\n",
      "a woman is just a good a a man\n",
      "i 'm just a good a a man . i do n't need a special day to celebrate that .\n",
      "men can have parental leave a woman\n",
      "most business meeting involve one party elaborately suppressing a wish to shout at the other : 'just give u the money ' .\n",
      "you get a promotion\n",
      "if mainstream culture think gender role are unimportant , church culture make them too important .\n",
      "human are men and woman\n",
      "my frustration with kat is getting stronger and stronger every time i meet with her and her team .\n",
      "the president notice that when he take off his coat to dig , people take more notice of the visual than they did his preceding remark .\n",
      "you are a professional woman\n",
      "what would the world do without woman and girl ?\n",
      "that wa in reply to her .\n",
      "and i 'm very lucky to have a girl in my life who i have the privilege to call my wife\n",
      "woman first !\n",
      "when life give you lemon squirt them into the eye of people who tell you that you are smart for a girl\n",
      "rape is not a punchline .\n",
      "my mind feel like a beehive without the buzz .\n",
      "woman are n't created weaker than men . without woman , everyone 's nothing .\n",
      "woman can do anything a man can\n",
      "let others slap each others on the back while you 're back in the lab or the gym or pounding the pavement .\n",
      "do n't think that a woman ha to act like a man to show that she ha strength .\n",
      "if you are lazy , then undoubtedly you will soon become poor\n"
     ]
    }
   ],
   "source": [
    "print(\"false negative sentences:\")\n",
    "for index in false_negatives_indices:\n",
    "    print(\" \".join(test_w2v[index]))"
   ]
  },
  {
   "cell_type": "code",
   "execution_count": null,
   "metadata": {},
   "outputs": [],
   "source": []
  }
 ],
 "metadata": {
  "kernelspec": {
   "display_name": "Python 3",
   "language": "python",
   "name": "python3"
  },
  "language_info": {
   "codemirror_mode": {
    "name": "ipython",
    "version": 3
   },
   "file_extension": ".py",
   "mimetype": "text/x-python",
   "name": "python",
   "nbconvert_exporter": "python",
   "pygments_lexer": "ipython3",
   "version": "3.8.5"
  }
 },
 "nbformat": 4,
 "nbformat_minor": 4
}
